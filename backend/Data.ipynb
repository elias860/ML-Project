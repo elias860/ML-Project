{
 "cells": [
  {
   "cell_type": "code",
   "execution_count": 313,
   "metadata": {},
   "outputs": [],
   "source": [
    "import pandas as pd   \n",
    "import numpy as np     \n",
    "import matplotlib .pyplot as plt    \n",
    "import seaborn as sns\n",
    "import statsmodels.api as sm\n",
    "\n"
   ]
  },
  {
   "cell_type": "code",
   "execution_count": 314,
   "metadata": {},
   "outputs": [],
   "source": [
    "df = pd.read_csv(r\"C:\\Users\\HP\\Documents\\Projects Data\\Student data.csv\")"
   ]
  },
  {
   "cell_type": "code",
   "execution_count": 315,
   "metadata": {},
   "outputs": [
    {
     "data": {
      "text/html": [
       "<div>\n",
       "<style scoped>\n",
       "    .dataframe tbody tr th:only-of-type {\n",
       "        vertical-align: middle;\n",
       "    }\n",
       "\n",
       "    .dataframe tbody tr th {\n",
       "        vertical-align: top;\n",
       "    }\n",
       "\n",
       "    .dataframe thead th {\n",
       "        text-align: right;\n",
       "    }\n",
       "</style>\n",
       "<table border=\"1\" class=\"dataframe\">\n",
       "  <thead>\n",
       "    <tr style=\"text-align: right;\">\n",
       "      <th></th>\n",
       "      <th>Health</th>\n",
       "      <th>Attendance</th>\n",
       "      <th>scholarship staus</th>\n",
       "      <th>GPA1</th>\n",
       "      <th>GPA2</th>\n",
       "      <th>GPA3</th>\n",
       "      <th>CGPA</th>\n",
       "      <th>Risk</th>\n",
       "    </tr>\n",
       "  </thead>\n",
       "  <tbody>\n",
       "    <tr>\n",
       "      <th>200</th>\n",
       "      <td>Stable</td>\n",
       "      <td>Excellent</td>\n",
       "      <td>Safe</td>\n",
       "      <td>3.74</td>\n",
       "      <td>3.25</td>\n",
       "      <td>4.00</td>\n",
       "      <td>3.66</td>\n",
       "      <td>Low Risk</td>\n",
       "    </tr>\n",
       "    <tr>\n",
       "      <th>201</th>\n",
       "      <td>Stable</td>\n",
       "      <td>Excellent</td>\n",
       "      <td>Safe</td>\n",
       "      <td>3.88</td>\n",
       "      <td>3.25</td>\n",
       "      <td>4.00</td>\n",
       "      <td>3.78</td>\n",
       "      <td>Low Risk</td>\n",
       "    </tr>\n",
       "    <tr>\n",
       "      <th>202</th>\n",
       "      <td>Stable</td>\n",
       "      <td>Excellent</td>\n",
       "      <td>Safe</td>\n",
       "      <td>3.48</td>\n",
       "      <td>3.25</td>\n",
       "      <td>3.72</td>\n",
       "      <td>3.64</td>\n",
       "      <td>Low Risk</td>\n",
       "    </tr>\n",
       "    <tr>\n",
       "      <th>203</th>\n",
       "      <td>Stable</td>\n",
       "      <td>Excellent</td>\n",
       "      <td>Uncertain</td>\n",
       "      <td>3.48</td>\n",
       "      <td>3.25</td>\n",
       "      <td>2.78</td>\n",
       "      <td>3.32</td>\n",
       "      <td>Low Risk</td>\n",
       "    </tr>\n",
       "    <tr>\n",
       "      <th>204</th>\n",
       "      <td>Stable</td>\n",
       "      <td>Excellent</td>\n",
       "      <td>Uncertain</td>\n",
       "      <td>3.27</td>\n",
       "      <td>3.34</td>\n",
       "      <td>3.11</td>\n",
       "      <td>3.26</td>\n",
       "      <td>Low Risk</td>\n",
       "    </tr>\n",
       "  </tbody>\n",
       "</table>\n",
       "</div>"
      ],
      "text/plain": [
       "     Health Attendance scholarship staus  GPA1  GPA2  GPA3  CGPA      Risk\n",
       "200  Stable  Excellent              Safe  3.74  3.25  4.00  3.66  Low Risk\n",
       "201  Stable  Excellent              Safe  3.88  3.25  4.00  3.78  Low Risk\n",
       "202  Stable  Excellent              Safe  3.48  3.25  3.72  3.64  Low Risk\n",
       "203  Stable  Excellent         Uncertain  3.48  3.25  2.78  3.32  Low Risk\n",
       "204  Stable  Excellent         Uncertain  3.27  3.34  3.11  3.26  Low Risk"
      ]
     },
     "execution_count": 315,
     "metadata": {},
     "output_type": "execute_result"
    }
   ],
   "source": [
    "df.tail()"
   ]
  },
  {
   "cell_type": "code",
   "execution_count": 316,
   "metadata": {},
   "outputs": [
    {
     "data": {
      "text/html": [
       "<div>\n",
       "<style scoped>\n",
       "    .dataframe tbody tr th:only-of-type {\n",
       "        vertical-align: middle;\n",
       "    }\n",
       "\n",
       "    .dataframe tbody tr th {\n",
       "        vertical-align: top;\n",
       "    }\n",
       "\n",
       "    .dataframe thead th {\n",
       "        text-align: right;\n",
       "    }\n",
       "</style>\n",
       "<table border=\"1\" class=\"dataframe\">\n",
       "  <thead>\n",
       "    <tr style=\"text-align: right;\">\n",
       "      <th></th>\n",
       "      <th>Health</th>\n",
       "      <th>Attendance</th>\n",
       "      <th>scholarship staus</th>\n",
       "      <th>GPA1</th>\n",
       "      <th>GPA2</th>\n",
       "      <th>GPA3</th>\n",
       "      <th>CGPA</th>\n",
       "      <th>Risk</th>\n",
       "    </tr>\n",
       "  </thead>\n",
       "  <tbody>\n",
       "    <tr>\n",
       "      <th>0</th>\n",
       "      <td>Stable</td>\n",
       "      <td>Excellent</td>\n",
       "      <td>Safe</td>\n",
       "      <td>3.44</td>\n",
       "      <td>3.25</td>\n",
       "      <td>3.65</td>\n",
       "      <td>3.65</td>\n",
       "      <td>Low Risk</td>\n",
       "    </tr>\n",
       "    <tr>\n",
       "      <th>1</th>\n",
       "      <td>Stable</td>\n",
       "      <td>Poor</td>\n",
       "      <td>Uncertain</td>\n",
       "      <td>3.44</td>\n",
       "      <td>3.25</td>\n",
       "      <td>2.28</td>\n",
       "      <td>2.28</td>\n",
       "      <td>High Risk</td>\n",
       "    </tr>\n",
       "    <tr>\n",
       "      <th>2</th>\n",
       "      <td>Stable</td>\n",
       "      <td>Excellent</td>\n",
       "      <td>Safe</td>\n",
       "      <td>3.21</td>\n",
       "      <td>2.67</td>\n",
       "      <td>3.33</td>\n",
       "      <td>3.42</td>\n",
       "      <td>Low Risk</td>\n",
       "    </tr>\n",
       "    <tr>\n",
       "      <th>3</th>\n",
       "      <td>Stable</td>\n",
       "      <td>Excellent</td>\n",
       "      <td>Safe</td>\n",
       "      <td>3.44</td>\n",
       "      <td>2.95</td>\n",
       "      <td>3.33</td>\n",
       "      <td>3.43</td>\n",
       "      <td>Low Risk</td>\n",
       "    </tr>\n",
       "    <tr>\n",
       "      <th>4</th>\n",
       "      <td>Stable</td>\n",
       "      <td>Excellent</td>\n",
       "      <td>Safe</td>\n",
       "      <td>3.72</td>\n",
       "      <td>3.25</td>\n",
       "      <td>3.42</td>\n",
       "      <td>3.51</td>\n",
       "      <td>Low Risk</td>\n",
       "    </tr>\n",
       "  </tbody>\n",
       "</table>\n",
       "</div>"
      ],
      "text/plain": [
       "   Health  Attendance scholarship staus  GPA1  GPA2  GPA3  CGPA       Risk\n",
       "0  Stable  Excellent               Safe  3.44  3.25  3.65  3.65   Low Risk\n",
       "1  Stable       Poor          Uncertain  3.44  3.25  2.28  2.28  High Risk\n",
       "2  Stable  Excellent               Safe  3.21  2.67  3.33  3.42   Low Risk\n",
       "3  Stable   Excellent              Safe  3.44  2.95  3.33  3.43   Low Risk\n",
       "4  Stable   Excellent              Safe  3.72  3.25  3.42  3.51   Low Risk"
      ]
     },
     "execution_count": 316,
     "metadata": {},
     "output_type": "execute_result"
    }
   ],
   "source": [
    "df.head()"
   ]
  },
  {
   "cell_type": "markdown",
   "metadata": {},
   "source": [
    "# Data preprocesseing:"
   ]
  },
  {
   "cell_type": "markdown",
   "metadata": {},
   "source": [
    "## checking missing values:"
   ]
  },
  {
   "cell_type": "code",
   "execution_count": 317,
   "metadata": {},
   "outputs": [
    {
     "data": {
      "text/plain": [
       "Health               0\n",
       "Attendance           0\n",
       "scholarship staus    0\n",
       "GPA1                 0\n",
       "GPA2                 0\n",
       "GPA3                 0\n",
       "CGPA                 0\n",
       "Risk                 0\n",
       "dtype: int64"
      ]
     },
     "execution_count": 317,
     "metadata": {},
     "output_type": "execute_result"
    }
   ],
   "source": [
    "df.isnull().sum()"
   ]
  },
  {
   "cell_type": "markdown",
   "metadata": {},
   "source": [
    "## checking duplicates"
   ]
  },
  {
   "cell_type": "code",
   "execution_count": 318,
   "metadata": {},
   "outputs": [
    {
     "data": {
      "image/png": "[encoded data removed]",
      "text/plain": [
       "<Figure size 640x480 with 1 Axes>"
      ]
     },
     "metadata": {},
     "output_type": "display_data"
    }
   ],
   "source": [
    "sns.heatmap(df.isnull(), cbar=False, cmap='viridis')\n",
    "plt.show()"
   ]
  },
  {
   "cell_type": "code",
   "execution_count": 319,
   "metadata": {},
   "outputs": [
    {
     "data": {
      "text/plain": [
       "0"
      ]
     },
     "execution_count": 319,
     "metadata": {},
     "output_type": "execute_result"
    }
   ],
   "source": [
    "df.duplicated().sum()"
   ]
  },
  {
   "cell_type": "markdown",
   "metadata": {},
   "source": [
    "## checking info:"
   ]
  },
  {
   "cell_type": "code",
   "execution_count": 320,
   "metadata": {},
   "outputs": [
    {
     "name": "stdout",
     "output_type": "stream",
     "text": [
      "<class 'pandas.core.frame.DataFrame'>\n",
      "RangeIndex: 205 entries, 0 to 204\n",
      "Data columns (total 8 columns):\n",
      " #   Column             Non-Null Count  Dtype  \n",
      "---  ------             --------------  -----  \n",
      " 0   Health             205 non-null    object \n",
      " 1   Attendance         205 non-null    object \n",
      " 2   scholarship staus  205 non-null    object \n",
      " 3   GPA1               205 non-null    float64\n",
      " 4   GPA2               205 non-null    float64\n",
      " 5   GPA3               205 non-null    float64\n",
      " 6   CGPA               205 non-null    float64\n",
      " 7   Risk               205 non-null    object \n",
      "dtypes: float64(4), object(4)\n",
      "memory usage: 12.9+ KB\n"
     ]
    }
   ],
   "source": [
    "df.info()"
   ]
  },
  {
   "cell_type": "code",
   "execution_count": 321,
   "metadata": {},
   "outputs": [
    {
     "data": {
      "text/html": [
       "<div>\n",
       "<style scoped>\n",
       "    .dataframe tbody tr th:only-of-type {\n",
       "        vertical-align: middle;\n",
       "    }\n",
       "\n",
       "    .dataframe tbody tr th {\n",
       "        vertical-align: top;\n",
       "    }\n",
       "\n",
       "    .dataframe thead th {\n",
       "        text-align: right;\n",
       "    }\n",
       "</style>\n",
       "<table border=\"1\" class=\"dataframe\">\n",
       "  <thead>\n",
       "    <tr style=\"text-align: right;\">\n",
       "      <th></th>\n",
       "      <th>GPA1</th>\n",
       "      <th>GPA2</th>\n",
       "      <th>GPA3</th>\n",
       "      <th>CGPA</th>\n",
       "    </tr>\n",
       "  </thead>\n",
       "  <tbody>\n",
       "    <tr>\n",
       "      <th>count</th>\n",
       "      <td>205.000000</td>\n",
       "      <td>205.00000</td>\n",
       "      <td>205.000000</td>\n",
       "      <td>205.000000</td>\n",
       "    </tr>\n",
       "    <tr>\n",
       "      <th>mean</th>\n",
       "      <td>3.328537</td>\n",
       "      <td>3.23078</td>\n",
       "      <td>3.297317</td>\n",
       "      <td>3.378780</td>\n",
       "    </tr>\n",
       "    <tr>\n",
       "      <th>std</th>\n",
       "      <td>0.634786</td>\n",
       "      <td>0.52215</td>\n",
       "      <td>0.615826</td>\n",
       "      <td>0.377097</td>\n",
       "    </tr>\n",
       "    <tr>\n",
       "      <th>min</th>\n",
       "      <td>0.000000</td>\n",
       "      <td>0.00000</td>\n",
       "      <td>0.000000</td>\n",
       "      <td>2.080000</td>\n",
       "    </tr>\n",
       "    <tr>\n",
       "      <th>25%</th>\n",
       "      <td>3.260000</td>\n",
       "      <td>3.25000</td>\n",
       "      <td>3.110000</td>\n",
       "      <td>3.240000</td>\n",
       "    </tr>\n",
       "    <tr>\n",
       "      <th>50%</th>\n",
       "      <td>3.490000</td>\n",
       "      <td>3.25000</td>\n",
       "      <td>3.420000</td>\n",
       "      <td>3.460000</td>\n",
       "    </tr>\n",
       "    <tr>\n",
       "      <th>75%</th>\n",
       "      <td>3.700000</td>\n",
       "      <td>3.25000</td>\n",
       "      <td>3.690000</td>\n",
       "      <td>3.640000</td>\n",
       "    </tr>\n",
       "    <tr>\n",
       "      <th>max</th>\n",
       "      <td>4.000000</td>\n",
       "      <td>3.96000</td>\n",
       "      <td>4.000000</td>\n",
       "      <td>3.920000</td>\n",
       "    </tr>\n",
       "  </tbody>\n",
       "</table>\n",
       "</div>"
      ],
      "text/plain": [
       "             GPA1       GPA2        GPA3        CGPA\n",
       "count  205.000000  205.00000  205.000000  205.000000\n",
       "mean     3.328537    3.23078    3.297317    3.378780\n",
       "std      0.634786    0.52215    0.615826    0.377097\n",
       "min      0.000000    0.00000    0.000000    2.080000\n",
       "25%      3.260000    3.25000    3.110000    3.240000\n",
       "50%      3.490000    3.25000    3.420000    3.460000\n",
       "75%      3.700000    3.25000    3.690000    3.640000\n",
       "max      4.000000    3.96000    4.000000    3.920000"
      ]
     },
     "execution_count": 321,
     "metadata": {},
     "output_type": "execute_result"
    }
   ],
   "source": [
    "df.describe()"
   ]
  },
  {
   "cell_type": "markdown",
   "metadata": {},
   "source": [
    "# Data analysis:"
   ]
  },
  {
   "cell_type": "code",
   "execution_count": 322,
   "metadata": {},
   "outputs": [
    {
     "data": {
      "text/html": [
       "<div>\n",
       "<style scoped>\n",
       "    .dataframe tbody tr th:only-of-type {\n",
       "        vertical-align: middle;\n",
       "    }\n",
       "\n",
       "    .dataframe tbody tr th {\n",
       "        vertical-align: top;\n",
       "    }\n",
       "\n",
       "    .dataframe thead th {\n",
       "        text-align: right;\n",
       "    }\n",
       "</style>\n",
       "<table border=\"1\" class=\"dataframe\">\n",
       "  <thead>\n",
       "    <tr style=\"text-align: right;\">\n",
       "      <th></th>\n",
       "      <th>Health</th>\n",
       "      <th>Attendance</th>\n",
       "      <th>scholarship staus</th>\n",
       "      <th>GPA1</th>\n",
       "      <th>GPA2</th>\n",
       "      <th>GPA3</th>\n",
       "      <th>CGPA</th>\n",
       "      <th>Risk</th>\n",
       "    </tr>\n",
       "  </thead>\n",
       "  <tbody>\n",
       "    <tr>\n",
       "      <th>0</th>\n",
       "      <td>Stable</td>\n",
       "      <td>Excellent</td>\n",
       "      <td>Safe</td>\n",
       "      <td>3.44</td>\n",
       "      <td>3.25</td>\n",
       "      <td>3.65</td>\n",
       "      <td>3.65</td>\n",
       "      <td>Low Risk</td>\n",
       "    </tr>\n",
       "    <tr>\n",
       "      <th>1</th>\n",
       "      <td>Stable</td>\n",
       "      <td>Poor</td>\n",
       "      <td>Uncertain</td>\n",
       "      <td>3.44</td>\n",
       "      <td>3.25</td>\n",
       "      <td>2.28</td>\n",
       "      <td>2.28</td>\n",
       "      <td>High Risk</td>\n",
       "    </tr>\n",
       "    <tr>\n",
       "      <th>2</th>\n",
       "      <td>Stable</td>\n",
       "      <td>Excellent</td>\n",
       "      <td>Safe</td>\n",
       "      <td>3.21</td>\n",
       "      <td>2.67</td>\n",
       "      <td>3.33</td>\n",
       "      <td>3.42</td>\n",
       "      <td>Low Risk</td>\n",
       "    </tr>\n",
       "    <tr>\n",
       "      <th>3</th>\n",
       "      <td>Stable</td>\n",
       "      <td>Excellent</td>\n",
       "      <td>Safe</td>\n",
       "      <td>3.44</td>\n",
       "      <td>2.95</td>\n",
       "      <td>3.33</td>\n",
       "      <td>3.43</td>\n",
       "      <td>Low Risk</td>\n",
       "    </tr>\n",
       "    <tr>\n",
       "      <th>4</th>\n",
       "      <td>Stable</td>\n",
       "      <td>Excellent</td>\n",
       "      <td>Safe</td>\n",
       "      <td>3.72</td>\n",
       "      <td>3.25</td>\n",
       "      <td>3.42</td>\n",
       "      <td>3.51</td>\n",
       "      <td>Low Risk</td>\n",
       "    </tr>\n",
       "  </tbody>\n",
       "</table>\n",
       "</div>"
      ],
      "text/plain": [
       "   Health  Attendance scholarship staus  GPA1  GPA2  GPA3  CGPA       Risk\n",
       "0  Stable  Excellent               Safe  3.44  3.25  3.65  3.65   Low Risk\n",
       "1  Stable       Poor          Uncertain  3.44  3.25  2.28  2.28  High Risk\n",
       "2  Stable  Excellent               Safe  3.21  2.67  3.33  3.42   Low Risk\n",
       "3  Stable   Excellent              Safe  3.44  2.95  3.33  3.43   Low Risk\n",
       "4  Stable   Excellent              Safe  3.72  3.25  3.42  3.51   Low Risk"
      ]
     },
     "execution_count": 322,
     "metadata": {},
     "output_type": "execute_result"
    }
   ],
   "source": [
    "df.head()"
   ]
  },
  {
   "cell_type": "code",
   "execution_count": 323,
   "metadata": {},
   "outputs": [],
   "source": [
    "df = df.rename(columns={'ATTENDANCE': 'attendance', 'scholarship staus':'scholarship','HEALTH':'health','GPA1':'gpa1', 'GPA2':'gpa2','GPA3':'gpa3','CGPA':'cgpa'})\n",
    "\n",
    "df = df.rename(columns={'ATTENDANCE': 'attendance', 'SCHOLARSHIP':'scholarship','HEALTH':'health','GPA1':'gpa1', 'GPA2':'gpa2','GPA3':'gpa3','CGPA':'cgpa'})\n",
    "\n",
    "df = df.rename(columns={'Attendance': 'attendance', 'SCHOLARSHIP':'scholarship','Health':'health','GPA1':'gpa1', 'GPA2':'gpa2','GPA3':'gpa3','CGPA':'cgpa'})"
   ]
  },
  {
   "cell_type": "code",
   "execution_count": 324,
   "metadata": {},
   "outputs": [
    {
     "data": {
      "text/plain": [
       "health\n",
       "Stable       179\n",
       "Unstable      22\n",
       "Critical       3\n",
       " Unstable      1\n",
       "Name: count, dtype: int64"
      ]
     },
     "execution_count": 324,
     "metadata": {},
     "output_type": "execute_result"
    }
   ],
   "source": [
    "df['health'].value_counts()"
   ]
  },
  {
   "cell_type": "code",
   "execution_count": 325,
   "metadata": {},
   "outputs": [
    {
     "data": {
      "text/html": [
       "<div>\n",
       "<style scoped>\n",
       "    .dataframe tbody tr th:only-of-type {\n",
       "        vertical-align: middle;\n",
       "    }\n",
       "\n",
       "    .dataframe tbody tr th {\n",
       "        vertical-align: top;\n",
       "    }\n",
       "\n",
       "    .dataframe thead th {\n",
       "        text-align: right;\n",
       "    }\n",
       "</style>\n",
       "<table border=\"1\" class=\"dataframe\">\n",
       "  <thead>\n",
       "    <tr style=\"text-align: right;\">\n",
       "      <th></th>\n",
       "      <th>health</th>\n",
       "      <th>attendance</th>\n",
       "      <th>scholarship</th>\n",
       "      <th>gpa1</th>\n",
       "      <th>gpa2</th>\n",
       "      <th>gpa3</th>\n",
       "      <th>cgpa</th>\n",
       "      <th>Risk</th>\n",
       "    </tr>\n",
       "  </thead>\n",
       "  <tbody>\n",
       "    <tr>\n",
       "      <th>0</th>\n",
       "      <td>Stable</td>\n",
       "      <td>Excellent</td>\n",
       "      <td>Safe</td>\n",
       "      <td>3.44</td>\n",
       "      <td>3.25</td>\n",
       "      <td>3.65</td>\n",
       "      <td>3.65</td>\n",
       "      <td>Low Risk</td>\n",
       "    </tr>\n",
       "    <tr>\n",
       "      <th>1</th>\n",
       "      <td>Stable</td>\n",
       "      <td>Poor</td>\n",
       "      <td>Uncertain</td>\n",
       "      <td>3.44</td>\n",
       "      <td>3.25</td>\n",
       "      <td>2.28</td>\n",
       "      <td>2.28</td>\n",
       "      <td>High Risk</td>\n",
       "    </tr>\n",
       "    <tr>\n",
       "      <th>2</th>\n",
       "      <td>Stable</td>\n",
       "      <td>Excellent</td>\n",
       "      <td>Safe</td>\n",
       "      <td>3.21</td>\n",
       "      <td>2.67</td>\n",
       "      <td>3.33</td>\n",
       "      <td>3.42</td>\n",
       "      <td>Low Risk</td>\n",
       "    </tr>\n",
       "    <tr>\n",
       "      <th>3</th>\n",
       "      <td>Stable</td>\n",
       "      <td>Excellent</td>\n",
       "      <td>Safe</td>\n",
       "      <td>3.44</td>\n",
       "      <td>2.95</td>\n",
       "      <td>3.33</td>\n",
       "      <td>3.43</td>\n",
       "      <td>Low Risk</td>\n",
       "    </tr>\n",
       "    <tr>\n",
       "      <th>4</th>\n",
       "      <td>Stable</td>\n",
       "      <td>Excellent</td>\n",
       "      <td>Safe</td>\n",
       "      <td>3.72</td>\n",
       "      <td>3.25</td>\n",
       "      <td>3.42</td>\n",
       "      <td>3.51</td>\n",
       "      <td>Low Risk</td>\n",
       "    </tr>\n",
       "  </tbody>\n",
       "</table>\n",
       "</div>"
      ],
      "text/plain": [
       "   health  attendance scholarship  gpa1  gpa2  gpa3  cgpa       Risk\n",
       "0  Stable  Excellent         Safe  3.44  3.25  3.65  3.65   Low Risk\n",
       "1  Stable       Poor    Uncertain  3.44  3.25  2.28  2.28  High Risk\n",
       "2  Stable  Excellent         Safe  3.21  2.67  3.33  3.42   Low Risk\n",
       "3  Stable   Excellent        Safe  3.44  2.95  3.33  3.43   Low Risk\n",
       "4  Stable   Excellent        Safe  3.72  3.25  3.42  3.51   Low Risk"
      ]
     },
     "execution_count": 325,
     "metadata": {},
     "output_type": "execute_result"
    }
   ],
   "source": [
    "df.head()"
   ]
  },
  {
   "cell_type": "markdown",
   "metadata": {},
   "source": [
    "#### there is a proplem in element number 4, let's fix it by deleting the whole row"
   ]
  },
  {
   "cell_type": "markdown",
   "metadata": {},
   "source": [
    "#### but we don't know the number of it's index, let's check it:"
   ]
  },
  {
   "cell_type": "code",
   "execution_count": 326,
   "metadata": {},
   "outputs": [],
   "source": [
    "df1 = df[df['health'] == \" Unstable\"]\n"
   ]
  },
  {
   "cell_type": "code",
   "execution_count": 327,
   "metadata": {},
   "outputs": [
    {
     "data": {
      "text/html": [
       "<div>\n",
       "<style scoped>\n",
       "    .dataframe tbody tr th:only-of-type {\n",
       "        vertical-align: middle;\n",
       "    }\n",
       "\n",
       "    .dataframe tbody tr th {\n",
       "        vertical-align: top;\n",
       "    }\n",
       "\n",
       "    .dataframe thead th {\n",
       "        text-align: right;\n",
       "    }\n",
       "</style>\n",
       "<table border=\"1\" class=\"dataframe\">\n",
       "  <thead>\n",
       "    <tr style=\"text-align: right;\">\n",
       "      <th></th>\n",
       "      <th>health</th>\n",
       "      <th>attendance</th>\n",
       "      <th>scholarship</th>\n",
       "      <th>gpa1</th>\n",
       "      <th>gpa2</th>\n",
       "      <th>gpa3</th>\n",
       "      <th>cgpa</th>\n",
       "      <th>Risk</th>\n",
       "    </tr>\n",
       "  </thead>\n",
       "  <tbody>\n",
       "    <tr>\n",
       "      <th>8</th>\n",
       "      <td>Unstable</td>\n",
       "      <td>Excellent</td>\n",
       "      <td>Safe</td>\n",
       "      <td>3.78</td>\n",
       "      <td>3.25</td>\n",
       "      <td>2.79</td>\n",
       "      <td>3.22</td>\n",
       "      <td>Low Risk</td>\n",
       "    </tr>\n",
       "  </tbody>\n",
       "</table>\n",
       "</div>"
      ],
      "text/plain": [
       "      health attendance scholarship  gpa1  gpa2  gpa3  cgpa      Risk\n",
       "8   Unstable  Excellent        Safe  3.78  3.25  2.79  3.22  Low Risk"
      ]
     },
     "execution_count": 327,
     "metadata": {},
     "output_type": "execute_result"
    }
   ],
   "source": [
    "df1"
   ]
  },
  {
   "cell_type": "markdown",
   "metadata": {},
   "source": [
    "###### then delete through below code:\n",
    "\n",
    "df.drop(8, axis=0, inplace=True)"
   ]
  },
  {
   "cell_type": "code",
   "execution_count": 328,
   "metadata": {},
   "outputs": [
    {
     "data": {
      "text/plain": [
       "health\n",
       "Stable       179\n",
       "Unstable      22\n",
       "Critical       3\n",
       " Unstable      1\n",
       "Name: count, dtype: int64"
      ]
     },
     "execution_count": 328,
     "metadata": {},
     "output_type": "execute_result"
    }
   ],
   "source": [
    "df['health'].value_counts()"
   ]
  },
  {
   "cell_type": "markdown",
   "metadata": {},
   "source": [
    "#### Done"
   ]
  },
  {
   "cell_type": "code",
   "execution_count": 329,
   "metadata": {},
   "outputs": [
    {
     "data": {
      "text/html": [
       "<div>\n",
       "<style scoped>\n",
       "    .dataframe tbody tr th:only-of-type {\n",
       "        vertical-align: middle;\n",
       "    }\n",
       "\n",
       "    .dataframe tbody tr th {\n",
       "        vertical-align: top;\n",
       "    }\n",
       "\n",
       "    .dataframe thead th {\n",
       "        text-align: right;\n",
       "    }\n",
       "</style>\n",
       "<table border=\"1\" class=\"dataframe\">\n",
       "  <thead>\n",
       "    <tr style=\"text-align: right;\">\n",
       "      <th></th>\n",
       "      <th>health</th>\n",
       "      <th>attendance</th>\n",
       "      <th>scholarship</th>\n",
       "      <th>gpa1</th>\n",
       "      <th>gpa2</th>\n",
       "      <th>gpa3</th>\n",
       "      <th>cgpa</th>\n",
       "      <th>Risk</th>\n",
       "    </tr>\n",
       "  </thead>\n",
       "  <tbody>\n",
       "    <tr>\n",
       "      <th>0</th>\n",
       "      <td>Stable</td>\n",
       "      <td>Excellent</td>\n",
       "      <td>Safe</td>\n",
       "      <td>3.44</td>\n",
       "      <td>3.25</td>\n",
       "      <td>3.65</td>\n",
       "      <td>3.65</td>\n",
       "      <td>Low Risk</td>\n",
       "    </tr>\n",
       "    <tr>\n",
       "      <th>1</th>\n",
       "      <td>Stable</td>\n",
       "      <td>Poor</td>\n",
       "      <td>Uncertain</td>\n",
       "      <td>3.44</td>\n",
       "      <td>3.25</td>\n",
       "      <td>2.28</td>\n",
       "      <td>2.28</td>\n",
       "      <td>High Risk</td>\n",
       "    </tr>\n",
       "    <tr>\n",
       "      <th>2</th>\n",
       "      <td>Stable</td>\n",
       "      <td>Excellent</td>\n",
       "      <td>Safe</td>\n",
       "      <td>3.21</td>\n",
       "      <td>2.67</td>\n",
       "      <td>3.33</td>\n",
       "      <td>3.42</td>\n",
       "      <td>Low Risk</td>\n",
       "    </tr>\n",
       "    <tr>\n",
       "      <th>3</th>\n",
       "      <td>Stable</td>\n",
       "      <td>Excellent</td>\n",
       "      <td>Safe</td>\n",
       "      <td>3.44</td>\n",
       "      <td>2.95</td>\n",
       "      <td>3.33</td>\n",
       "      <td>3.43</td>\n",
       "      <td>Low Risk</td>\n",
       "    </tr>\n",
       "    <tr>\n",
       "      <th>4</th>\n",
       "      <td>Stable</td>\n",
       "      <td>Excellent</td>\n",
       "      <td>Safe</td>\n",
       "      <td>3.72</td>\n",
       "      <td>3.25</td>\n",
       "      <td>3.42</td>\n",
       "      <td>3.51</td>\n",
       "      <td>Low Risk</td>\n",
       "    </tr>\n",
       "  </tbody>\n",
       "</table>\n",
       "</div>"
      ],
      "text/plain": [
       "   health  attendance scholarship  gpa1  gpa2  gpa3  cgpa       Risk\n",
       "0  Stable  Excellent         Safe  3.44  3.25  3.65  3.65   Low Risk\n",
       "1  Stable       Poor    Uncertain  3.44  3.25  2.28  2.28  High Risk\n",
       "2  Stable  Excellent         Safe  3.21  2.67  3.33  3.42   Low Risk\n",
       "3  Stable   Excellent        Safe  3.44  2.95  3.33  3.43   Low Risk\n",
       "4  Stable   Excellent        Safe  3.72  3.25  3.42  3.51   Low Risk"
      ]
     },
     "execution_count": 329,
     "metadata": {},
     "output_type": "execute_result"
    }
   ],
   "source": [
    "df.head()"
   ]
  },
  {
   "cell_type": "code",
   "execution_count": 330,
   "metadata": {},
   "outputs": [
    {
     "data": {
      "text/plain": [
       "health     attendance\n",
       " Unstable  Excellent       1\n",
       "Critical   Irregular       2\n",
       "           Poor            1\n",
       "Stable     Excellent     147\n",
       "           Irregular      25\n",
       "           Poor            4\n",
       "           Excellent       2\n",
       "           Poor            1\n",
       "Unstable   Excellent      14\n",
       "           Irregular       6\n",
       "           Excellent       1\n",
       "           Poor            1\n",
       "Name: count, dtype: int64"
      ]
     },
     "execution_count": 330,
     "metadata": {},
     "output_type": "execute_result"
    }
   ],
   "source": [
    "df.groupby('health')['attendance'].value_counts()"
   ]
  },
  {
   "cell_type": "code",
   "execution_count": 331,
   "metadata": {},
   "outputs": [
    {
     "data": {
      "text/plain": [
       "attendance\n",
       "Excellent     162\n",
       "Irregular      33\n",
       "Poor            4\n",
       "Excellent       3\n",
       "Poor            3\n",
       "Name: count, dtype: int64"
      ]
     },
     "execution_count": 331,
     "metadata": {},
     "output_type": "execute_result"
    }
   ],
   "source": [
    "df['attendance'].value_counts()"
   ]
  },
  {
   "cell_type": "markdown",
   "metadata": {},
   "source": [
    "##### It looks we have some spacese in 'Excellent ' and  'Poor ', lets remove the spacese \n",
    "\n"
   ]
  },
  {
   "cell_type": "code",
   "execution_count": 332,
   "metadata": {},
   "outputs": [],
   "source": [
    "df2 = df[df['attendance'] == 'Poor ']"
   ]
  },
  {
   "cell_type": "code",
   "execution_count": 333,
   "metadata": {},
   "outputs": [
    {
     "data": {
      "text/html": [
       "<div>\n",
       "<style scoped>\n",
       "    .dataframe tbody tr th:only-of-type {\n",
       "        vertical-align: middle;\n",
       "    }\n",
       "\n",
       "    .dataframe tbody tr th {\n",
       "        vertical-align: top;\n",
       "    }\n",
       "\n",
       "    .dataframe thead th {\n",
       "        text-align: right;\n",
       "    }\n",
       "</style>\n",
       "<table border=\"1\" class=\"dataframe\">\n",
       "  <thead>\n",
       "    <tr style=\"text-align: right;\">\n",
       "      <th></th>\n",
       "      <th>health</th>\n",
       "      <th>attendance</th>\n",
       "      <th>scholarship</th>\n",
       "      <th>gpa1</th>\n",
       "      <th>gpa2</th>\n",
       "      <th>gpa3</th>\n",
       "      <th>cgpa</th>\n",
       "      <th>Risk</th>\n",
       "    </tr>\n",
       "  </thead>\n",
       "  <tbody>\n",
       "    <tr>\n",
       "      <th>1</th>\n",
       "      <td>Stable</td>\n",
       "      <td>Poor</td>\n",
       "      <td>Uncertain</td>\n",
       "      <td>3.44</td>\n",
       "      <td>3.25</td>\n",
       "      <td>2.28</td>\n",
       "      <td>2.28</td>\n",
       "      <td>High Risk</td>\n",
       "    </tr>\n",
       "    <tr>\n",
       "      <th>21</th>\n",
       "      <td>Stable</td>\n",
       "      <td>Poor</td>\n",
       "      <td>Uncertain</td>\n",
       "      <td>3.61</td>\n",
       "      <td>3.25</td>\n",
       "      <td>2.38</td>\n",
       "      <td>2.38</td>\n",
       "      <td>High Risk</td>\n",
       "    </tr>\n",
       "    <tr>\n",
       "      <th>32</th>\n",
       "      <td>Stable</td>\n",
       "      <td>Poor</td>\n",
       "      <td>Uncertain</td>\n",
       "      <td>3.75</td>\n",
       "      <td>0.00</td>\n",
       "      <td>1.32</td>\n",
       "      <td>2.39</td>\n",
       "      <td>High Risk</td>\n",
       "    </tr>\n",
       "    <tr>\n",
       "      <th>195</th>\n",
       "      <td>Stable</td>\n",
       "      <td>Poor</td>\n",
       "      <td>Uncertain</td>\n",
       "      <td>1.20</td>\n",
       "      <td>3.25</td>\n",
       "      <td>3.34</td>\n",
       "      <td>2.60</td>\n",
       "      <td>High Risk</td>\n",
       "    </tr>\n",
       "  </tbody>\n",
       "</table>\n",
       "</div>"
      ],
      "text/plain": [
       "     health attendance scholarship  gpa1  gpa2  gpa3  cgpa       Risk\n",
       "1    Stable      Poor    Uncertain  3.44  3.25  2.28  2.28  High Risk\n",
       "21   Stable      Poor   Uncertain   3.61  3.25  2.38  2.38  High Risk\n",
       "32   Stable      Poor    Uncertain  3.75  0.00  1.32  2.39  High Risk\n",
       "195  Stable      Poor    Uncertain  1.20  3.25  3.34  2.60  High Risk"
      ]
     },
     "execution_count": 333,
     "metadata": {},
     "output_type": "execute_result"
    }
   ],
   "source": [
    "df2"
   ]
  },
  {
   "cell_type": "code",
   "execution_count": 334,
   "metadata": {},
   "outputs": [],
   "source": [
    "df3 = df[df['attendance'] == 'Excellent ']"
   ]
  },
  {
   "cell_type": "code",
   "execution_count": 335,
   "metadata": {},
   "outputs": [
    {
     "data": {
      "text/html": [
       "<div>\n",
       "<style scoped>\n",
       "    .dataframe tbody tr th:only-of-type {\n",
       "        vertical-align: middle;\n",
       "    }\n",
       "\n",
       "    .dataframe tbody tr th {\n",
       "        vertical-align: top;\n",
       "    }\n",
       "\n",
       "    .dataframe thead th {\n",
       "        text-align: right;\n",
       "    }\n",
       "</style>\n",
       "<table border=\"1\" class=\"dataframe\">\n",
       "  <thead>\n",
       "    <tr style=\"text-align: right;\">\n",
       "      <th></th>\n",
       "      <th>health</th>\n",
       "      <th>attendance</th>\n",
       "      <th>scholarship</th>\n",
       "      <th>gpa1</th>\n",
       "      <th>gpa2</th>\n",
       "      <th>gpa3</th>\n",
       "      <th>cgpa</th>\n",
       "      <th>Risk</th>\n",
       "    </tr>\n",
       "  </thead>\n",
       "  <tbody>\n",
       "    <tr>\n",
       "      <th>0</th>\n",
       "      <td>Stable</td>\n",
       "      <td>Excellent</td>\n",
       "      <td>Safe</td>\n",
       "      <td>3.44</td>\n",
       "      <td>3.25</td>\n",
       "      <td>3.65</td>\n",
       "      <td>3.65</td>\n",
       "      <td>Low Risk</td>\n",
       "    </tr>\n",
       "    <tr>\n",
       "      <th>2</th>\n",
       "      <td>Stable</td>\n",
       "      <td>Excellent</td>\n",
       "      <td>Safe</td>\n",
       "      <td>3.21</td>\n",
       "      <td>2.67</td>\n",
       "      <td>3.33</td>\n",
       "      <td>3.42</td>\n",
       "      <td>Low Risk</td>\n",
       "    </tr>\n",
       "    <tr>\n",
       "      <th>24</th>\n",
       "      <td>Unstable</td>\n",
       "      <td>Excellent</td>\n",
       "      <td>Safe</td>\n",
       "      <td>3.47</td>\n",
       "      <td>3.25</td>\n",
       "      <td>3.47</td>\n",
       "      <td>3.23</td>\n",
       "      <td>Low Risk</td>\n",
       "    </tr>\n",
       "  </tbody>\n",
       "</table>\n",
       "</div>"
      ],
      "text/plain": [
       "      health  attendance scholarship  gpa1  gpa2  gpa3  cgpa      Risk\n",
       "0     Stable  Excellent         Safe  3.44  3.25  3.65  3.65  Low Risk\n",
       "2     Stable  Excellent         Safe  3.21  2.67  3.33  3.42  Low Risk\n",
       "24  Unstable  Excellent         Safe  3.47  3.25  3.47  3.23  Low Risk"
      ]
     },
     "execution_count": 335,
     "metadata": {},
     "output_type": "execute_result"
    }
   ],
   "source": [
    "df3"
   ]
  },
  {
   "cell_type": "code",
   "execution_count": 336,
   "metadata": {},
   "outputs": [],
   "source": [
    "df['attendance'] = df['attendance'].replace({'Poor ': 'Poor'})"
   ]
  },
  {
   "cell_type": "code",
   "execution_count": 337,
   "metadata": {},
   "outputs": [],
   "source": [
    "df['attendance'] = df['attendance'].replace({'Excellent ': 'Excellent'})"
   ]
  },
  {
   "cell_type": "code",
   "execution_count": 338,
   "metadata": {},
   "outputs": [
    {
     "data": {
      "text/plain": [
       "attendance\n",
       "Excellent    165\n",
       "Irregular     33\n",
       "Poor           7\n",
       "Name: count, dtype: int64"
      ]
     },
     "execution_count": 338,
     "metadata": {},
     "output_type": "execute_result"
    }
   ],
   "source": [
    "df['attendance'].value_counts()"
   ]
  },
  {
   "cell_type": "code",
   "execution_count": 339,
   "metadata": {},
   "outputs": [
    {
     "data": {
      "image/png": "[encoded data removed]",
      "text/plain": [
       "<Figure size 640x480 with 1 Axes>"
      ]
     },
     "metadata": {},
     "output_type": "display_data"
    }
   ],
   "source": [
    "# Plot the pie chart\n",
    "df['attendance'].value_counts().plot(kind='pie', colors=[\"g\", \"y\", \"r\"], autopct='%1.1f%%', startangle=140, shadow=True)\n",
    "\n",
    "# Add a title\n",
    "plt.title('attendance')\n",
    "\n",
    "# Show the plot\n",
    "plt.show()"
   ]
  },
  {
   "cell_type": "markdown",
   "metadata": {},
   "source": [
    "## Done"
   ]
  },
  {
   "cell_type": "code",
   "execution_count": 340,
   "metadata": {},
   "outputs": [
    {
     "data": {
      "text/plain": [
       "scholarship\n",
       "Safe          117\n",
       "Uncertain      82\n",
       "Endangered      5\n",
       "Uncertain       1\n",
       "Name: count, dtype: int64"
      ]
     },
     "execution_count": 340,
     "metadata": {},
     "output_type": "execute_result"
    }
   ],
   "source": [
    "df['scholarship'].value_counts()"
   ]
  },
  {
   "cell_type": "markdown",
   "metadata": {},
   "source": [
    "#### there is a proplem in element \"Uncertain\", it had repeated 2 times, let's fix it by deleting the whole row"
   ]
  },
  {
   "cell_type": "code",
   "execution_count": 341,
   "metadata": {},
   "outputs": [],
   "source": [
    "df5 = df[df['scholarship'] == \"Uncertain \"]"
   ]
  },
  {
   "cell_type": "code",
   "execution_count": 342,
   "metadata": {},
   "outputs": [
    {
     "data": {
      "text/html": [
       "<div>\n",
       "<style scoped>\n",
       "    .dataframe tbody tr th:only-of-type {\n",
       "        vertical-align: middle;\n",
       "    }\n",
       "\n",
       "    .dataframe tbody tr th {\n",
       "        vertical-align: top;\n",
       "    }\n",
       "\n",
       "    .dataframe thead th {\n",
       "        text-align: right;\n",
       "    }\n",
       "</style>\n",
       "<table border=\"1\" class=\"dataframe\">\n",
       "  <thead>\n",
       "    <tr style=\"text-align: right;\">\n",
       "      <th></th>\n",
       "      <th>health</th>\n",
       "      <th>attendance</th>\n",
       "      <th>scholarship</th>\n",
       "      <th>gpa1</th>\n",
       "      <th>gpa2</th>\n",
       "      <th>gpa3</th>\n",
       "      <th>cgpa</th>\n",
       "      <th>Risk</th>\n",
       "    </tr>\n",
       "  </thead>\n",
       "  <tbody>\n",
       "    <tr>\n",
       "      <th>21</th>\n",
       "      <td>Stable</td>\n",
       "      <td>Poor</td>\n",
       "      <td>Uncertain</td>\n",
       "      <td>3.61</td>\n",
       "      <td>3.25</td>\n",
       "      <td>2.38</td>\n",
       "      <td>2.38</td>\n",
       "      <td>High Risk</td>\n",
       "    </tr>\n",
       "  </tbody>\n",
       "</table>\n",
       "</div>"
      ],
      "text/plain": [
       "    health attendance scholarship  gpa1  gpa2  gpa3  cgpa       Risk\n",
       "21  Stable       Poor  Uncertain   3.61  3.25  2.38  2.38  High Risk"
      ]
     },
     "execution_count": 342,
     "metadata": {},
     "output_type": "execute_result"
    }
   ],
   "source": [
    "df5"
   ]
  },
  {
   "cell_type": "markdown",
   "metadata": {},
   "source": [
    "#### Index number 21"
   ]
  },
  {
   "cell_type": "code",
   "execution_count": 343,
   "metadata": {},
   "outputs": [],
   "source": [
    "df.drop(21, axis=0, inplace=True)"
   ]
  },
  {
   "cell_type": "code",
   "execution_count": 344,
   "metadata": {},
   "outputs": [
    {
     "data": {
      "text/plain": [
       "scholarship\n",
       "Safe          117\n",
       "Uncertain      82\n",
       "Endangered      5\n",
       "Name: count, dtype: int64"
      ]
     },
     "execution_count": 344,
     "metadata": {},
     "output_type": "execute_result"
    }
   ],
   "source": [
    "df['scholarship'].value_counts()"
   ]
  },
  {
   "cell_type": "markdown",
   "metadata": {},
   "source": [
    "#### Done"
   ]
  },
  {
   "cell_type": "code",
   "execution_count": 345,
   "metadata": {},
   "outputs": [
    {
     "data": {
      "image/png": "[encoded data removed]",
      "text/plain": [
       "<Figure size 2500x500 with 1 Axes>"
      ]
     },
     "metadata": {},
     "output_type": "display_data"
    }
   ],
   "source": [
    "df['scholarship'].value_counts().sort_values(ascending=False).plot(kind='bar', color=[\"g\", \"y\", \"r\"], figsize=(25,5))\n",
    "\n",
    "plt.title('scholarship')  \n",
    "plt.xticks(rotation=45)\n",
    "\n",
    "plt.show()\n"
   ]
  },
  {
   "cell_type": "code",
   "execution_count": null,
   "metadata": {},
   "outputs": [],
   "source": []
  },
  {
   "cell_type": "markdown",
   "metadata": {},
   "source": [
    "## Let's check the correlation between \"Health\" and \"Risk\""
   ]
  },
  {
   "cell_type": "code",
   "execution_count": 346,
   "metadata": {},
   "outputs": [
    {
     "data": {
      "text/html": [
       "<div>\n",
       "<style scoped>\n",
       "    .dataframe tbody tr th:only-of-type {\n",
       "        vertical-align: middle;\n",
       "    }\n",
       "\n",
       "    .dataframe tbody tr th {\n",
       "        vertical-align: top;\n",
       "    }\n",
       "\n",
       "    .dataframe thead th {\n",
       "        text-align: right;\n",
       "    }\n",
       "</style>\n",
       "<table border=\"1\" class=\"dataframe\">\n",
       "  <thead>\n",
       "    <tr style=\"text-align: right;\">\n",
       "      <th></th>\n",
       "      <th>health</th>\n",
       "      <th>attendance</th>\n",
       "      <th>scholarship</th>\n",
       "      <th>gpa1</th>\n",
       "      <th>gpa2</th>\n",
       "      <th>gpa3</th>\n",
       "      <th>cgpa</th>\n",
       "      <th>Risk</th>\n",
       "    </tr>\n",
       "  </thead>\n",
       "  <tbody>\n",
       "    <tr>\n",
       "      <th>0</th>\n",
       "      <td>Stable</td>\n",
       "      <td>Excellent</td>\n",
       "      <td>Safe</td>\n",
       "      <td>3.44</td>\n",
       "      <td>3.25</td>\n",
       "      <td>3.65</td>\n",
       "      <td>3.65</td>\n",
       "      <td>Low Risk</td>\n",
       "    </tr>\n",
       "    <tr>\n",
       "      <th>1</th>\n",
       "      <td>Stable</td>\n",
       "      <td>Poor</td>\n",
       "      <td>Uncertain</td>\n",
       "      <td>3.44</td>\n",
       "      <td>3.25</td>\n",
       "      <td>2.28</td>\n",
       "      <td>2.28</td>\n",
       "      <td>High Risk</td>\n",
       "    </tr>\n",
       "    <tr>\n",
       "      <th>2</th>\n",
       "      <td>Stable</td>\n",
       "      <td>Excellent</td>\n",
       "      <td>Safe</td>\n",
       "      <td>3.21</td>\n",
       "      <td>2.67</td>\n",
       "      <td>3.33</td>\n",
       "      <td>3.42</td>\n",
       "      <td>Low Risk</td>\n",
       "    </tr>\n",
       "    <tr>\n",
       "      <th>3</th>\n",
       "      <td>Stable</td>\n",
       "      <td>Excellent</td>\n",
       "      <td>Safe</td>\n",
       "      <td>3.44</td>\n",
       "      <td>2.95</td>\n",
       "      <td>3.33</td>\n",
       "      <td>3.43</td>\n",
       "      <td>Low Risk</td>\n",
       "    </tr>\n",
       "    <tr>\n",
       "      <th>4</th>\n",
       "      <td>Stable</td>\n",
       "      <td>Excellent</td>\n",
       "      <td>Safe</td>\n",
       "      <td>3.72</td>\n",
       "      <td>3.25</td>\n",
       "      <td>3.42</td>\n",
       "      <td>3.51</td>\n",
       "      <td>Low Risk</td>\n",
       "    </tr>\n",
       "  </tbody>\n",
       "</table>\n",
       "</div>"
      ],
      "text/plain": [
       "   health attendance scholarship  gpa1  gpa2  gpa3  cgpa       Risk\n",
       "0  Stable  Excellent        Safe  3.44  3.25  3.65  3.65   Low Risk\n",
       "1  Stable       Poor   Uncertain  3.44  3.25  2.28  2.28  High Risk\n",
       "2  Stable  Excellent        Safe  3.21  2.67  3.33  3.42   Low Risk\n",
       "3  Stable  Excellent        Safe  3.44  2.95  3.33  3.43   Low Risk\n",
       "4  Stable  Excellent        Safe  3.72  3.25  3.42  3.51   Low Risk"
      ]
     },
     "execution_count": 346,
     "metadata": {},
     "output_type": "execute_result"
    }
   ],
   "source": [
    "df.head()"
   ]
  },
  {
   "cell_type": "code",
   "execution_count": 347,
   "metadata": {},
   "outputs": [
    {
     "data": {
      "text/html": [
       "<div>\n",
       "<style scoped>\n",
       "    .dataframe tbody tr th:only-of-type {\n",
       "        vertical-align: middle;\n",
       "    }\n",
       "\n",
       "    .dataframe tbody tr th {\n",
       "        vertical-align: top;\n",
       "    }\n",
       "\n",
       "    .dataframe thead th {\n",
       "        text-align: right;\n",
       "    }\n",
       "</style>\n",
       "<table border=\"1\" class=\"dataframe\">\n",
       "  <thead>\n",
       "    <tr style=\"text-align: right;\">\n",
       "      <th></th>\n",
       "      <th>index</th>\n",
       "      <th>health</th>\n",
       "      <th>attendance</th>\n",
       "      <th>scholarship</th>\n",
       "      <th>gpa1</th>\n",
       "      <th>gpa2</th>\n",
       "      <th>gpa3</th>\n",
       "      <th>cgpa</th>\n",
       "      <th>Risk</th>\n",
       "    </tr>\n",
       "  </thead>\n",
       "  <tbody>\n",
       "    <tr>\n",
       "      <th>0</th>\n",
       "      <td>0</td>\n",
       "      <td>Stable</td>\n",
       "      <td>Excellent</td>\n",
       "      <td>Safe</td>\n",
       "      <td>3.44</td>\n",
       "      <td>3.25</td>\n",
       "      <td>3.65</td>\n",
       "      <td>3.65</td>\n",
       "      <td>Low Risk</td>\n",
       "    </tr>\n",
       "    <tr>\n",
       "      <th>1</th>\n",
       "      <td>1</td>\n",
       "      <td>Stable</td>\n",
       "      <td>Poor</td>\n",
       "      <td>Uncertain</td>\n",
       "      <td>3.44</td>\n",
       "      <td>3.25</td>\n",
       "      <td>2.28</td>\n",
       "      <td>2.28</td>\n",
       "      <td>High Risk</td>\n",
       "    </tr>\n",
       "    <tr>\n",
       "      <th>2</th>\n",
       "      <td>2</td>\n",
       "      <td>Stable</td>\n",
       "      <td>Excellent</td>\n",
       "      <td>Safe</td>\n",
       "      <td>3.21</td>\n",
       "      <td>2.67</td>\n",
       "      <td>3.33</td>\n",
       "      <td>3.42</td>\n",
       "      <td>Low Risk</td>\n",
       "    </tr>\n",
       "    <tr>\n",
       "      <th>3</th>\n",
       "      <td>3</td>\n",
       "      <td>Stable</td>\n",
       "      <td>Excellent</td>\n",
       "      <td>Safe</td>\n",
       "      <td>3.44</td>\n",
       "      <td>2.95</td>\n",
       "      <td>3.33</td>\n",
       "      <td>3.43</td>\n",
       "      <td>Low Risk</td>\n",
       "    </tr>\n",
       "    <tr>\n",
       "      <th>4</th>\n",
       "      <td>4</td>\n",
       "      <td>Stable</td>\n",
       "      <td>Excellent</td>\n",
       "      <td>Safe</td>\n",
       "      <td>3.72</td>\n",
       "      <td>3.25</td>\n",
       "      <td>3.42</td>\n",
       "      <td>3.51</td>\n",
       "      <td>Low Risk</td>\n",
       "    </tr>\n",
       "    <tr>\n",
       "      <th>...</th>\n",
       "      <td>...</td>\n",
       "      <td>...</td>\n",
       "      <td>...</td>\n",
       "      <td>...</td>\n",
       "      <td>...</td>\n",
       "      <td>...</td>\n",
       "      <td>...</td>\n",
       "      <td>...</td>\n",
       "      <td>...</td>\n",
       "    </tr>\n",
       "    <tr>\n",
       "      <th>199</th>\n",
       "      <td>200</td>\n",
       "      <td>Stable</td>\n",
       "      <td>Excellent</td>\n",
       "      <td>Safe</td>\n",
       "      <td>3.74</td>\n",
       "      <td>3.25</td>\n",
       "      <td>4.00</td>\n",
       "      <td>3.66</td>\n",
       "      <td>Low Risk</td>\n",
       "    </tr>\n",
       "    <tr>\n",
       "      <th>200</th>\n",
       "      <td>201</td>\n",
       "      <td>Stable</td>\n",
       "      <td>Excellent</td>\n",
       "      <td>Safe</td>\n",
       "      <td>3.88</td>\n",
       "      <td>3.25</td>\n",
       "      <td>4.00</td>\n",
       "      <td>3.78</td>\n",
       "      <td>Low Risk</td>\n",
       "    </tr>\n",
       "    <tr>\n",
       "      <th>201</th>\n",
       "      <td>202</td>\n",
       "      <td>Stable</td>\n",
       "      <td>Excellent</td>\n",
       "      <td>Safe</td>\n",
       "      <td>3.48</td>\n",
       "      <td>3.25</td>\n",
       "      <td>3.72</td>\n",
       "      <td>3.64</td>\n",
       "      <td>Low Risk</td>\n",
       "    </tr>\n",
       "    <tr>\n",
       "      <th>202</th>\n",
       "      <td>203</td>\n",
       "      <td>Stable</td>\n",
       "      <td>Excellent</td>\n",
       "      <td>Uncertain</td>\n",
       "      <td>3.48</td>\n",
       "      <td>3.25</td>\n",
       "      <td>2.78</td>\n",
       "      <td>3.32</td>\n",
       "      <td>Low Risk</td>\n",
       "    </tr>\n",
       "    <tr>\n",
       "      <th>203</th>\n",
       "      <td>204</td>\n",
       "      <td>Stable</td>\n",
       "      <td>Excellent</td>\n",
       "      <td>Uncertain</td>\n",
       "      <td>3.27</td>\n",
       "      <td>3.34</td>\n",
       "      <td>3.11</td>\n",
       "      <td>3.26</td>\n",
       "      <td>Low Risk</td>\n",
       "    </tr>\n",
       "  </tbody>\n",
       "</table>\n",
       "<p>204 rows × 9 columns</p>\n",
       "</div>"
      ],
      "text/plain": [
       "     index  health attendance scholarship  gpa1  gpa2  gpa3  cgpa       Risk\n",
       "0        0  Stable  Excellent        Safe  3.44  3.25  3.65  3.65   Low Risk\n",
       "1        1  Stable       Poor   Uncertain  3.44  3.25  2.28  2.28  High Risk\n",
       "2        2  Stable  Excellent        Safe  3.21  2.67  3.33  3.42   Low Risk\n",
       "3        3  Stable  Excellent        Safe  3.44  2.95  3.33  3.43   Low Risk\n",
       "4        4  Stable  Excellent        Safe  3.72  3.25  3.42  3.51   Low Risk\n",
       "..     ...     ...        ...         ...   ...   ...   ...   ...        ...\n",
       "199    200  Stable  Excellent        Safe  3.74  3.25  4.00  3.66   Low Risk\n",
       "200    201  Stable  Excellent        Safe  3.88  3.25  4.00  3.78   Low Risk\n",
       "201    202  Stable  Excellent        Safe  3.48  3.25  3.72  3.64   Low Risk\n",
       "202    203  Stable  Excellent   Uncertain  3.48  3.25  2.78  3.32   Low Risk\n",
       "203    204  Stable  Excellent   Uncertain  3.27  3.34  3.11  3.26   Low Risk\n",
       "\n",
       "[204 rows x 9 columns]"
      ]
     },
     "execution_count": 347,
     "metadata": {},
     "output_type": "execute_result"
    }
   ],
   "source": [
    "df.reset_index()\n"
   ]
  },
  {
   "cell_type": "code",
   "execution_count": 348,
   "metadata": {},
   "outputs": [
    {
     "data": {
      "text/plain": [
       "Risk\n",
       "Low Risk       177\n",
       "High Risk       20\n",
       "Medium Risk      7\n",
       "Name: count, dtype: int64"
      ]
     },
     "execution_count": 348,
     "metadata": {},
     "output_type": "execute_result"
    }
   ],
   "source": [
    "df['Risk'].value_counts()"
   ]
  },
  {
   "cell_type": "code",
   "execution_count": 349,
   "metadata": {},
   "outputs": [
    {
     "name": "stdout",
     "output_type": "stream",
     "text": [
      "health          object\n",
      "attendance      object\n",
      "scholarship     object\n",
      "gpa1           float64\n",
      "gpa2           float64\n",
      "gpa3           float64\n",
      "cgpa           float64\n",
      "Risk            object\n",
      "dtype: object\n"
     ]
    }
   ],
   "source": [
    "print(df.dtypes)\n"
   ]
  },
  {
   "cell_type": "code",
   "execution_count": 350,
   "metadata": {},
   "outputs": [
    {
     "data": {
      "text/plain": [
       "0"
      ]
     },
     "execution_count": 350,
     "metadata": {},
     "output_type": "execute_result"
    }
   ],
   "source": [
    "df['health'].isnull().sum()"
   ]
  },
  {
   "cell_type": "code",
   "execution_count": 351,
   "metadata": {},
   "outputs": [],
   "source": [
    "df['health'] = df['health'].replace({' Unstable': 'Unstable'})\n"
   ]
  },
  {
   "cell_type": "code",
   "execution_count": 352,
   "metadata": {},
   "outputs": [
    {
     "data": {
      "text/plain": [
       "health\n",
       "Stable      178\n",
       "Unstable     23\n",
       "Critical      3\n",
       "Name: count, dtype: int64"
      ]
     },
     "execution_count": 352,
     "metadata": {},
     "output_type": "execute_result"
    }
   ],
   "source": [
    "df['health'].value_counts()"
   ]
  },
  {
   "cell_type": "code",
   "execution_count": 353,
   "metadata": {},
   "outputs": [
    {
     "name": "stdout",
     "output_type": "stream",
     "text": [
      "['Stable' 'Unstable' 'Critical']\n"
     ]
    }
   ],
   "source": [
    "non_numeric = df[pd.to_numeric(df['health'], errors='coerce').isna()]\n",
    "print(non_numeric['health'].unique())"
   ]
  },
  {
   "cell_type": "code",
   "execution_count": 354,
   "metadata": {},
   "outputs": [],
   "source": [
    "df['health'] = df['health'].map({'Stable': 2, 'Unstable':1 , 'Critical': 0})\n",
    "\n",
    "df['health'] = df['health'].fillna(0).astype(int)\n",
    "\n",
    "df['health'] = pd.to_numeric(df['health'], errors='coerce').fillna(0).astype(int)"
   ]
  },
  {
   "cell_type": "code",
   "execution_count": 355,
   "metadata": {},
   "outputs": [
    {
     "name": "stdout",
     "output_type": "stream",
     "text": [
      "health           int32\n",
      "attendance      object\n",
      "scholarship     object\n",
      "gpa1           float64\n",
      "gpa2           float64\n",
      "gpa3           float64\n",
      "cgpa           float64\n",
      "Risk            object\n",
      "dtype: object\n"
     ]
    }
   ],
   "source": [
    "print(df.dtypes)"
   ]
  },
  {
   "cell_type": "markdown",
   "metadata": {},
   "source": [
    "# kgkgkgkgkgkgkgkgkgkgkgkgkgkgkgkgkgkgkgkgkgkgkgkgkgkgkgkgkgkgkgkgkgkgkgkgkgkgkgkgkgkgkgk\n",
    "# gkgkgkgkgkgkgkgkgkgkgkgkgkgkgkgkgkgkgkgkgkgkgkgkgkgkgkgkgkgkgkgkgkgkgkgkgkgkgkgkgkgkgkgkgkgkgkgkgkgkgkgkgkgf\n"
   ]
  },
  {
   "cell_type": "code",
   "execution_count": 356,
   "metadata": {},
   "outputs": [
    {
     "name": "stdout",
     "output_type": "stream",
     "text": [
      "['Low Risk' 'High Risk' 'Medium Risk']\n"
     ]
    }
   ],
   "source": [
    "non_numeric = df[pd.to_numeric(df['Risk'], errors='coerce').isna()]\n",
    "print(non_numeric['Risk'].unique())"
   ]
  },
  {
   "cell_type": "code",
   "execution_count": 357,
   "metadata": {},
   "outputs": [],
   "source": [
    "df['Risk'] = df['Risk'].map({'Low Risk': 2, 'Medium Risk':1 , 'High Risk': 0})"
   ]
  },
  {
   "cell_type": "code",
   "execution_count": 358,
   "metadata": {},
   "outputs": [],
   "source": [
    "df['Risk'] = df['Risk'].astype(int)"
   ]
  },
  {
   "cell_type": "code",
   "execution_count": 359,
   "metadata": {},
   "outputs": [],
   "source": [
    "df['Risk'] = pd.to_numeric(df['Risk'], errors='coerce').fillna(0).astype(int)\n"
   ]
  },
  {
   "cell_type": "code",
   "execution_count": 360,
   "metadata": {},
   "outputs": [
    {
     "name": "stdout",
     "output_type": "stream",
     "text": [
      "health           int32\n",
      "attendance      object\n",
      "scholarship     object\n",
      "gpa1           float64\n",
      "gpa2           float64\n",
      "gpa3           float64\n",
      "cgpa           float64\n",
      "Risk             int32\n",
      "dtype: object\n"
     ]
    }
   ],
   "source": [
    "print(df.dtypes)  # Check data types of all columns\n"
   ]
  },
  {
   "cell_type": "code",
   "execution_count": 361,
   "metadata": {},
   "outputs": [
    {
     "name": "stdout",
     "output_type": "stream",
     "text": [
      "                            OLS Regression Results                            \n",
      "==============================================================================\n",
      "Dep. Variable:                   Risk   R-squared:                       0.176\n",
      "Model:                            OLS   Adj. R-squared:                  0.171\n",
      "Method:                 Least Squares   F-statistic:                     43.01\n",
      "Date:                Fri, 28 Mar 2025   Prob (F-statistic):           4.47e-10\n",
      "Time:                        06:32:18   Log-Likelihood:                -169.29\n",
      "No. Observations:                 204   AIC:                             342.6\n",
      "Df Residuals:                     202   BIC:                             349.2\n",
      "Df Model:                           1                                         \n",
      "Covariance Type:            nonrobust                                         \n",
      "==============================================================================\n",
      "                 coef    std err          t      P>|t|      [0.025      0.975]\n",
      "------------------------------------------------------------------------------\n",
      "const          0.5471      0.190      2.872      0.005       0.172       0.923\n",
      "health         0.6580      0.100      6.558      0.000       0.460       0.856\n",
      "==============================================================================\n",
      "Omnibus:                      105.526   Durbin-Watson:                   1.893\n",
      "Prob(Omnibus):                  0.000   Jarque-Bera (JB):              374.009\n",
      "Skew:                          -2.218   Prob(JB):                     6.10e-82\n",
      "Kurtosis:                       7.932   Cond. No.                         11.7\n",
      "==============================================================================\n",
      "\n",
      "Notes:\n",
      "[1] Standard Errors assume that the covariance matrix of the errors is correctly specified.\n"
     ]
    },
    {
     "data": {
      "image/png": "[encoded data removed]",
      "text/plain": [
       "<Figure size 800x500 with 1 Axes>"
      ]
     },
     "metadata": {},
     "output_type": "display_data"
    }
   ],
   "source": [
    "# Independent and dependent variables\n",
    "x = df['health']\n",
    "y = df['Risk']\n",
    "\n",
    "# Add constant for intercept in the model\n",
    "x = sm.add_constant(x)\n",
    "\n",
    "# Fit the OLS model\n",
    "model = sm.OLS(y, x).fit()\n",
    "print(model.summary())\n",
    "\n",
    "# Plot results\n",
    "plt.figure(figsize=(8, 5))\n",
    "plt.scatter(df['health'], df['Risk'], color='blue', label='Actual Data')\n",
    "plt.plot(df['health'], model.predict(x), color='red', label='Regression Line')\n",
    "plt.xlabel('health')\n",
    "plt.ylabel('Risk')\n",
    "\n",
    "plt.title('Regression Analysis: Risk vs Health')\n",
    "plt.legend()\n",
    "plt.show()\n"
   ]
  },
  {
   "cell_type": "markdown",
   "metadata": {},
   "source": [
    "#####  Conclusion: Health significantly influences Risk, but the model explains only 17.6% of the variance, suggesting other factors might be at play."
   ]
  },
  {
   "cell_type": "markdown",
   "metadata": {},
   "source": [
    "### Let's check the correlation between \"Attendance\" and \"Risk\""
   ]
  },
  {
   "cell_type": "code",
   "execution_count": 362,
   "metadata": {},
   "outputs": [
    {
     "data": {
      "text/html": [
       "<div>\n",
       "<style scoped>\n",
       "    .dataframe tbody tr th:only-of-type {\n",
       "        vertical-align: middle;\n",
       "    }\n",
       "\n",
       "    .dataframe tbody tr th {\n",
       "        vertical-align: top;\n",
       "    }\n",
       "\n",
       "    .dataframe thead th {\n",
       "        text-align: right;\n",
       "    }\n",
       "</style>\n",
       "<table border=\"1\" class=\"dataframe\">\n",
       "  <thead>\n",
       "    <tr style=\"text-align: right;\">\n",
       "      <th></th>\n",
       "      <th>health</th>\n",
       "      <th>attendance</th>\n",
       "      <th>scholarship</th>\n",
       "      <th>gpa1</th>\n",
       "      <th>gpa2</th>\n",
       "      <th>gpa3</th>\n",
       "      <th>cgpa</th>\n",
       "      <th>Risk</th>\n",
       "    </tr>\n",
       "  </thead>\n",
       "  <tbody>\n",
       "    <tr>\n",
       "      <th>0</th>\n",
       "      <td>2</td>\n",
       "      <td>Excellent</td>\n",
       "      <td>Safe</td>\n",
       "      <td>3.44</td>\n",
       "      <td>3.25</td>\n",
       "      <td>3.65</td>\n",
       "      <td>3.65</td>\n",
       "      <td>2</td>\n",
       "    </tr>\n",
       "    <tr>\n",
       "      <th>1</th>\n",
       "      <td>2</td>\n",
       "      <td>Poor</td>\n",
       "      <td>Uncertain</td>\n",
       "      <td>3.44</td>\n",
       "      <td>3.25</td>\n",
       "      <td>2.28</td>\n",
       "      <td>2.28</td>\n",
       "      <td>0</td>\n",
       "    </tr>\n",
       "    <tr>\n",
       "      <th>2</th>\n",
       "      <td>2</td>\n",
       "      <td>Excellent</td>\n",
       "      <td>Safe</td>\n",
       "      <td>3.21</td>\n",
       "      <td>2.67</td>\n",
       "      <td>3.33</td>\n",
       "      <td>3.42</td>\n",
       "      <td>2</td>\n",
       "    </tr>\n",
       "    <tr>\n",
       "      <th>3</th>\n",
       "      <td>2</td>\n",
       "      <td>Excellent</td>\n",
       "      <td>Safe</td>\n",
       "      <td>3.44</td>\n",
       "      <td>2.95</td>\n",
       "      <td>3.33</td>\n",
       "      <td>3.43</td>\n",
       "      <td>2</td>\n",
       "    </tr>\n",
       "    <tr>\n",
       "      <th>4</th>\n",
       "      <td>2</td>\n",
       "      <td>Excellent</td>\n",
       "      <td>Safe</td>\n",
       "      <td>3.72</td>\n",
       "      <td>3.25</td>\n",
       "      <td>3.42</td>\n",
       "      <td>3.51</td>\n",
       "      <td>2</td>\n",
       "    </tr>\n",
       "  </tbody>\n",
       "</table>\n",
       "</div>"
      ],
      "text/plain": [
       "   health attendance scholarship  gpa1  gpa2  gpa3  cgpa  Risk\n",
       "0       2  Excellent        Safe  3.44  3.25  3.65  3.65     2\n",
       "1       2       Poor   Uncertain  3.44  3.25  2.28  2.28     0\n",
       "2       2  Excellent        Safe  3.21  2.67  3.33  3.42     2\n",
       "3       2  Excellent        Safe  3.44  2.95  3.33  3.43     2\n",
       "4       2  Excellent        Safe  3.72  3.25  3.42  3.51     2"
      ]
     },
     "execution_count": 362,
     "metadata": {},
     "output_type": "execute_result"
    }
   ],
   "source": [
    "\n",
    "df.head()"
   ]
  },
  {
   "cell_type": "code",
   "execution_count": 363,
   "metadata": {},
   "outputs": [
    {
     "name": "stdout",
     "output_type": "stream",
     "text": [
      "['Excellent' 'Poor' 'Irregular']\n"
     ]
    }
   ],
   "source": [
    "non_numeric = df[pd.to_numeric(df['attendance'], errors='coerce').isna()]\n",
    "print(non_numeric['attendance'].unique())\n"
   ]
  },
  {
   "cell_type": "code",
   "execution_count": 364,
   "metadata": {},
   "outputs": [
    {
     "data": {
      "text/plain": [
       "attendance\n",
       "Excellent    165\n",
       "Irregular     33\n",
       "Poor           6\n",
       "Name: count, dtype: int64"
      ]
     },
     "execution_count": 364,
     "metadata": {},
     "output_type": "execute_result"
    }
   ],
   "source": [
    "df['attendance'].value_counts()"
   ]
  },
  {
   "cell_type": "code",
   "execution_count": 365,
   "metadata": {},
   "outputs": [],
   "source": [
    "df['attendance'] = df['attendance'].map({'Excellent': 2, 'Irregular': 1, 'Poor': 0})"
   ]
  },
  {
   "cell_type": "code",
   "execution_count": 366,
   "metadata": {},
   "outputs": [],
   "source": [
    "df['attendance'] = df['attendance'].fillna(0).astype(int)\n"
   ]
  },
  {
   "cell_type": "code",
   "execution_count": 367,
   "metadata": {},
   "outputs": [],
   "source": [
    "df['attendance'] = pd.to_numeric(df['attendance'], errors='coerce').fillna(0).astype(int)"
   ]
  },
  {
   "cell_type": "code",
   "execution_count": 368,
   "metadata": {},
   "outputs": [
    {
     "data": {
      "text/plain": [
       "dtype('int32')"
      ]
     },
     "execution_count": 368,
     "metadata": {},
     "output_type": "execute_result"
    }
   ],
   "source": [
    "df['attendance'].dtype"
   ]
  },
  {
   "cell_type": "code",
   "execution_count": 369,
   "metadata": {},
   "outputs": [
    {
     "name": "stdout",
     "output_type": "stream",
     "text": [
      "                            OLS Regression Results                            \n",
      "==============================================================================\n",
      "Dep. Variable:                   Risk   R-squared:                       0.531\n",
      "Model:                            OLS   Adj. R-squared:                  0.529\n",
      "Method:                 Least Squares   F-statistic:                     228.7\n",
      "Date:                Fri, 28 Mar 2025   Prob (F-statistic):           4.77e-35\n",
      "Time:                        06:32:25   Log-Likelihood:                -111.76\n",
      "No. Observations:                 204   AIC:                             227.5\n",
      "Df Residuals:                     202   BIC:                             234.2\n",
      "Df Model:                           1                                         \n",
      "Covariance Type:            nonrobust                                         \n",
      "==============================================================================\n",
      "                 coef    std err          t      P>|t|      [0.025      0.975]\n",
      "------------------------------------------------------------------------------\n",
      "const          0.1203      0.113      1.065      0.288      -0.102       0.343\n",
      "attendance     0.9269      0.061     15.121      0.000       0.806       1.048\n",
      "==============================================================================\n",
      "Omnibus:                       68.181   Durbin-Watson:                   1.695\n",
      "Prob(Omnibus):                  0.000   Jarque-Bera (JB):              379.756\n",
      "Skew:                          -1.145   Prob(JB):                     3.44e-83\n",
      "Kurtosis:                       9.280   Cond. No.                         9.04\n",
      "==============================================================================\n",
      "\n",
      "Notes:\n",
      "[1] Standard Errors assume that the covariance matrix of the errors is correctly specified.\n"
     ]
    },
    {
     "data": {
      "image/png": "[encoded data removed]",
      "text/plain": [
       "<Figure size 800x500 with 1 Axes>"
      ]
     },
     "metadata": {},
     "output_type": "display_data"
    }
   ],
   "source": [
    "x = df['attendance']\n",
    "y = df['Risk']\n",
    "\n",
    "# Add constant for intercept in the model\n",
    "x = sm.add_constant(x)\n",
    "\n",
    "# Fit the OLS model\n",
    "model = sm.OLS(y, x).fit()\n",
    "print(model.summary())\n",
    "\n",
    "# Plot results\n",
    "plt.figure(figsize=(8, 5))\n",
    "plt.scatter(df['attendance'], df['Risk'], color='blue', label='Actual Data')\n",
    "plt.plot(df['attendance'], model.predict(x), color='red', label='Regression Line')\n",
    "plt.xlabel('attendance')\n",
    "plt.ylabel('Risk')\n",
    "\n",
    "plt.title('Regression Analysis: Risk vs Attendance')\n",
    "plt.legend()\n",
    "plt.show()\n"
   ]
  },
  {
   "cell_type": "markdown",
   "metadata": {},
   "source": [
    "##### Attendance has a strong and significant positive impact on Risk. "
   ]
  },
  {
   "cell_type": "code",
   "execution_count": 370,
   "metadata": {},
   "outputs": [],
   "source": [
    "#### I think will goes to 'scholarship status' as well for GPA's and etc...,\n",
    "#### ya I think will having the same effict and impact into Final student risk."
   ]
  },
  {
   "cell_type": "markdown",
   "metadata": {},
   "source": [
    "### let's change dytpe of 'scholarship status' and Start training our mosel"
   ]
  },
  {
   "cell_type": "code",
   "execution_count": 371,
   "metadata": {},
   "outputs": [
    {
     "data": {
      "text/plain": [
       "scholarship\n",
       "Safe          117\n",
       "Uncertain      82\n",
       "Endangered      5\n",
       "Name: count, dtype: int64"
      ]
     },
     "execution_count": 371,
     "metadata": {},
     "output_type": "execute_result"
    }
   ],
   "source": [
    "df['scholarship'].value_counts()"
   ]
  },
  {
   "cell_type": "code",
   "execution_count": 372,
   "metadata": {},
   "outputs": [
    {
     "name": "stdout",
     "output_type": "stream",
     "text": [
      "['Safe' 'Uncertain' 'Endangered']\n"
     ]
    }
   ],
   "source": [
    "non_numeric = df[pd.to_numeric(df['scholarship'], errors='coerce').isna()]\n",
    "print(non_numeric['scholarship'].unique())"
   ]
  },
  {
   "cell_type": "code",
   "execution_count": 373,
   "metadata": {},
   "outputs": [],
   "source": [
    "df['scholarship'] = df['scholarship'].map({'Safe': 2, 'Uncertain': 1, 'Endangered': 1})"
   ]
  },
  {
   "cell_type": "code",
   "execution_count": 374,
   "metadata": {},
   "outputs": [],
   "source": [
    "df['scholarship'] = df['scholarship'].fillna(0).astype(int)"
   ]
  },
  {
   "cell_type": "code",
   "execution_count": 375,
   "metadata": {},
   "outputs": [],
   "source": [
    "df['scholarship'] = pd.to_numeric(df['scholarship'], errors='coerce').fillna(0).astype(int)"
   ]
  },
  {
   "cell_type": "code",
   "execution_count": 376,
   "metadata": {},
   "outputs": [
    {
     "data": {
      "text/plain": [
       "dtype('int32')"
      ]
     },
     "execution_count": 376,
     "metadata": {},
     "output_type": "execute_result"
    }
   ],
   "source": [
    "df['attendance'].dtype"
   ]
  },
  {
   "cell_type": "markdown",
   "metadata": {},
   "source": [
    "## Done\n"
   ]
  },
  {
   "cell_type": "markdown",
   "metadata": {},
   "source": [
    "# Let's Start Model Training Process"
   ]
  },
  {
   "cell_type": "code",
   "execution_count": 377,
   "metadata": {},
   "outputs": [
    {
     "data": {
      "text/html": [
       "<div>\n",
       "<style scoped>\n",
       "    .dataframe tbody tr th:only-of-type {\n",
       "        vertical-align: middle;\n",
       "    }\n",
       "\n",
       "    .dataframe tbody tr th {\n",
       "        vertical-align: top;\n",
       "    }\n",
       "\n",
       "    .dataframe thead th {\n",
       "        text-align: right;\n",
       "    }\n",
       "</style>\n",
       "<table border=\"1\" class=\"dataframe\">\n",
       "  <thead>\n",
       "    <tr style=\"text-align: right;\">\n",
       "      <th></th>\n",
       "      <th>health</th>\n",
       "      <th>attendance</th>\n",
       "      <th>scholarship</th>\n",
       "      <th>gpa1</th>\n",
       "      <th>gpa2</th>\n",
       "      <th>gpa3</th>\n",
       "      <th>cgpa</th>\n",
       "      <th>Risk</th>\n",
       "    </tr>\n",
       "  </thead>\n",
       "  <tbody>\n",
       "    <tr>\n",
       "      <th>0</th>\n",
       "      <td>2</td>\n",
       "      <td>2</td>\n",
       "      <td>2</td>\n",
       "      <td>3.44</td>\n",
       "      <td>3.25</td>\n",
       "      <td>3.65</td>\n",
       "      <td>3.65</td>\n",
       "      <td>2</td>\n",
       "    </tr>\n",
       "    <tr>\n",
       "      <th>1</th>\n",
       "      <td>2</td>\n",
       "      <td>0</td>\n",
       "      <td>1</td>\n",
       "      <td>3.44</td>\n",
       "      <td>3.25</td>\n",
       "      <td>2.28</td>\n",
       "      <td>2.28</td>\n",
       "      <td>0</td>\n",
       "    </tr>\n",
       "    <tr>\n",
       "      <th>2</th>\n",
       "      <td>2</td>\n",
       "      <td>2</td>\n",
       "      <td>2</td>\n",
       "      <td>3.21</td>\n",
       "      <td>2.67</td>\n",
       "      <td>3.33</td>\n",
       "      <td>3.42</td>\n",
       "      <td>2</td>\n",
       "    </tr>\n",
       "    <tr>\n",
       "      <th>3</th>\n",
       "      <td>2</td>\n",
       "      <td>2</td>\n",
       "      <td>2</td>\n",
       "      <td>3.44</td>\n",
       "      <td>2.95</td>\n",
       "      <td>3.33</td>\n",
       "      <td>3.43</td>\n",
       "      <td>2</td>\n",
       "    </tr>\n",
       "    <tr>\n",
       "      <th>4</th>\n",
       "      <td>2</td>\n",
       "      <td>2</td>\n",
       "      <td>2</td>\n",
       "      <td>3.72</td>\n",
       "      <td>3.25</td>\n",
       "      <td>3.42</td>\n",
       "      <td>3.51</td>\n",
       "      <td>2</td>\n",
       "    </tr>\n",
       "  </tbody>\n",
       "</table>\n",
       "</div>"
      ],
      "text/plain": [
       "   health  attendance  scholarship  gpa1  gpa2  gpa3  cgpa  Risk\n",
       "0       2           2            2  3.44  3.25  3.65  3.65     2\n",
       "1       2           0            1  3.44  3.25  2.28  2.28     0\n",
       "2       2           2            2  3.21  2.67  3.33  3.42     2\n",
       "3       2           2            2  3.44  2.95  3.33  3.43     2\n",
       "4       2           2            2  3.72  3.25  3.42  3.51     2"
      ]
     },
     "execution_count": 377,
     "metadata": {},
     "output_type": "execute_result"
    }
   ],
   "source": [
    "df.head()"
   ]
  },
  {
   "cell_type": "code",
   "execution_count": 378,
   "metadata": {},
   "outputs": [
    {
     "data": {
      "text/plain": [
       "Index(['health', 'attendance', 'scholarship', 'gpa1', 'gpa2', 'gpa3', 'cgpa',\n",
       "       'Risk'],\n",
       "      dtype='object')"
      ]
     },
     "execution_count": 378,
     "metadata": {},
     "output_type": "execute_result"
    }
   ],
   "source": [
    "df.columns"
   ]
  },
  {
   "cell_type": "code",
   "execution_count": 379,
   "metadata": {},
   "outputs": [
    {
     "name": "stdout",
     "output_type": "stream",
     "text": [
      "<class 'pandas.core.frame.DataFrame'>\n",
      "Index: 204 entries, 0 to 204\n",
      "Data columns (total 8 columns):\n",
      " #   Column       Non-Null Count  Dtype  \n",
      "---  ------       --------------  -----  \n",
      " 0   health       204 non-null    int32  \n",
      " 1   attendance   204 non-null    int32  \n",
      " 2   scholarship  204 non-null    int32  \n",
      " 3   gpa1         204 non-null    float64\n",
      " 4   gpa2         204 non-null    float64\n",
      " 5   gpa3         204 non-null    float64\n",
      " 6   cgpa         204 non-null    float64\n",
      " 7   Risk         204 non-null    int32  \n",
      "dtypes: float64(4), int32(4)\n",
      "memory usage: 11.2 KB\n"
     ]
    }
   ],
   "source": [
    "df.info()"
   ]
  },
  {
   "cell_type": "code",
   "execution_count": 380,
   "metadata": {},
   "outputs": [],
   "source": [
    "## All looks well organized, Let's Go"
   ]
  },
  {
   "cell_type": "code",
   "execution_count": 381,
   "metadata": {},
   "outputs": [],
   "source": [
    "from sklearn.model_selection import train_test_split\n",
    "from sklearn.ensemble import RandomForestClassifier\n",
    "from sklearn.naive_bayes import GaussianNB\n",
    "from sklearn.metrics import accuracy_score, classification_report"
   ]
  },
  {
   "cell_type": "code",
   "execution_count": 382,
   "metadata": {},
   "outputs": [],
   "source": [
    "X = df.drop('Risk', axis=1)\n",
    "y = df['Risk']\n",
    "\n",
    "# Split dataset into 50% training and 50% testing\n",
    "X_train, X_test, y_train, y_test = train_test_split(X, y, test_size=0.5, random_state=42)"
   ]
  },
  {
   "cell_type": "code",
   "execution_count": null,
   "metadata": {},
   "outputs": [],
   "source": []
  },
  {
   "cell_type": "code",
   "execution_count": null,
   "metadata": {},
   "outputs": [],
   "source": []
  },
  {
   "cell_type": "code",
   "execution_count": 383,
   "metadata": {},
   "outputs": [
    {
     "name": "stdout",
     "output_type": "stream",
     "text": [
      "Model Accuracy: 0.975609756097561\n",
      "Model saved successfully at: C:\\Users\\HP\\Documents\\Projects Data\\ML Project\\tree_model.pkl\n",
      "Scikit-Learn Version: 1.3.0\n"
     ]
    }
   ],
   "source": [
    "# Import necessary libraries\n",
    "\n",
    "import pandas as pd\n",
    "import sklearn\n",
    "from sklearn.tree import DecisionTreeClassifier\n",
    "from sklearn.model_selection import train_test_split\n",
    "from sklearn.preprocessing import LabelEncoder\n",
    "import joblib\n",
    "\n",
    " \n",
    "\n",
    "# Check for missing values\n",
    "if df.isnull().sum().any():\n",
    "    print(\"Warning: Dataset contains missing values. Consider handling them.\")\n",
    "\n",
    "# Preprocess categorical columns\n",
    "label_encoders = {}\n",
    "for col in ['health', 'attendance','scholarship']:\n",
    "    if df[col].dtype == 'object':  # Only encode if it's categorical\n",
    "        le = LabelEncoder()\n",
    "        df[col] = le.fit_transform(df[col])\n",
    "        label_encoders[col] = le\n",
    "\n",
    "# Define features and target\n",
    "features = ['health', 'attendance','scholarship', 'gpa1', 'gpa2', 'gpa3', 'cgpa']\n",
    "target = 'Risk'\n",
    "\n",
    "# Ensure all features exist in the dataset\n",
    "if not all(col in df.columns for col in features + [target]):\n",
    "    missing_cols = [col for col in features + [target] if col not in df.columns]\n",
    "    print(f\"Error: Missing columns in dataset: {missing_cols}\")\n",
    "else:\n",
    "    X = df[features]\n",
    "    y = df[target]\n",
    "\n",
    "    # Split the data\n",
    "    X_train, X_test, y_train, y_test = train_test_split(X, y, test_size=0.2, random_state=42)\n",
    "\n",
    "    # Train the model\n",
    "    model = DecisionTreeClassifier(random_state=42)\n",
    "    model.fit(X_train, y_train)\n",
    "\n",
    "    # Calculate accuracy\n",
    "    accuracy = model.score(X_test, y_test)\n",
    "    print(\"Model Accuracy:\", accuracy)\n",
    "\n",
    "    # Save the model (ensure the directory exists)\n",
    "    model_path = r'C:\\Users\\HP\\Documents\\Projects Data\\ML Project\\tree_model.pkl'\n",
    "    joblib.dump(model, model_path)\n",
    "    print(f\"Model saved successfully at: {model_path}\")\n",
    "\n",
    "    # Verify scikit-learn version\n",
    "    print(\"Scikit-Learn Version:\", sklearn.__version__)\n",
    "\n",
    "\n",
    "\n",
    " "
   ]
  },
  {
   "cell_type": "code",
   "execution_count": 384,
   "metadata": {},
   "outputs": [
    {
     "name": "stdout",
     "output_type": "stream",
     "text": [
      "scikit-learn version: 1.3.0\n"
     ]
    }
   ],
   "source": [
    "import sklearn\n",
    "print(\"scikit-learn version:\", sklearn.__version__)\n"
   ]
  },
  {
   "cell_type": "code",
   "execution_count": 385,
   "metadata": {},
   "outputs": [
    {
     "name": "stdout",
     "output_type": "stream",
     "text": [
      "['health' 'attendance' 'scholarship' 'gpa1' 'gpa2' 'gpa3' 'cgpa']\n"
     ]
    }
   ],
   "source": [
    "print(model.feature_names_in_)\n"
   ]
  },
  {
   "cell_type": "code",
   "execution_count": 386,
   "metadata": {},
   "outputs": [
    {
     "data": {
      "text/html": [
       "<div>\n",
       "<style scoped>\n",
       "    .dataframe tbody tr th:only-of-type {\n",
       "        vertical-align: middle;\n",
       "    }\n",
       "\n",
       "    .dataframe tbody tr th {\n",
       "        vertical-align: top;\n",
       "    }\n",
       "\n",
       "    .dataframe thead th {\n",
       "        text-align: right;\n",
       "    }\n",
       "</style>\n",
       "<table border=\"1\" class=\"dataframe\">\n",
       "  <thead>\n",
       "    <tr style=\"text-align: right;\">\n",
       "      <th></th>\n",
       "      <th>health</th>\n",
       "      <th>attendance</th>\n",
       "      <th>scholarship</th>\n",
       "      <th>gpa1</th>\n",
       "      <th>gpa2</th>\n",
       "      <th>gpa3</th>\n",
       "      <th>cgpa</th>\n",
       "      <th>Risk</th>\n",
       "    </tr>\n",
       "  </thead>\n",
       "  <tbody>\n",
       "    <tr>\n",
       "      <th>0</th>\n",
       "      <td>2</td>\n",
       "      <td>2</td>\n",
       "      <td>2</td>\n",
       "      <td>3.44</td>\n",
       "      <td>3.25</td>\n",
       "      <td>3.65</td>\n",
       "      <td>3.65</td>\n",
       "      <td>2</td>\n",
       "    </tr>\n",
       "    <tr>\n",
       "      <th>1</th>\n",
       "      <td>2</td>\n",
       "      <td>0</td>\n",
       "      <td>1</td>\n",
       "      <td>3.44</td>\n",
       "      <td>3.25</td>\n",
       "      <td>2.28</td>\n",
       "      <td>2.28</td>\n",
       "      <td>0</td>\n",
       "    </tr>\n",
       "    <tr>\n",
       "      <th>2</th>\n",
       "      <td>2</td>\n",
       "      <td>2</td>\n",
       "      <td>2</td>\n",
       "      <td>3.21</td>\n",
       "      <td>2.67</td>\n",
       "      <td>3.33</td>\n",
       "      <td>3.42</td>\n",
       "      <td>2</td>\n",
       "    </tr>\n",
       "    <tr>\n",
       "      <th>3</th>\n",
       "      <td>2</td>\n",
       "      <td>2</td>\n",
       "      <td>2</td>\n",
       "      <td>3.44</td>\n",
       "      <td>2.95</td>\n",
       "      <td>3.33</td>\n",
       "      <td>3.43</td>\n",
       "      <td>2</td>\n",
       "    </tr>\n",
       "    <tr>\n",
       "      <th>4</th>\n",
       "      <td>2</td>\n",
       "      <td>2</td>\n",
       "      <td>2</td>\n",
       "      <td>3.72</td>\n",
       "      <td>3.25</td>\n",
       "      <td>3.42</td>\n",
       "      <td>3.51</td>\n",
       "      <td>2</td>\n",
       "    </tr>\n",
       "    <tr>\n",
       "      <th>5</th>\n",
       "      <td>2</td>\n",
       "      <td>2</td>\n",
       "      <td>2</td>\n",
       "      <td>3.33</td>\n",
       "      <td>3.25</td>\n",
       "      <td>3.54</td>\n",
       "      <td>3.54</td>\n",
       "      <td>2</td>\n",
       "    </tr>\n",
       "    <tr>\n",
       "      <th>6</th>\n",
       "      <td>2</td>\n",
       "      <td>1</td>\n",
       "      <td>2</td>\n",
       "      <td>3.56</td>\n",
       "      <td>3.25</td>\n",
       "      <td>3.60</td>\n",
       "      <td>3.60</td>\n",
       "      <td>2</td>\n",
       "    </tr>\n",
       "    <tr>\n",
       "      <th>7</th>\n",
       "      <td>2</td>\n",
       "      <td>2</td>\n",
       "      <td>2</td>\n",
       "      <td>3.70</td>\n",
       "      <td>3.25</td>\n",
       "      <td>3.60</td>\n",
       "      <td>3.58</td>\n",
       "      <td>2</td>\n",
       "    </tr>\n",
       "  </tbody>\n",
       "</table>\n",
       "</div>"
      ],
      "text/plain": [
       "   health  attendance  scholarship  gpa1  gpa2  gpa3  cgpa  Risk\n",
       "0       2           2            2  3.44  3.25  3.65  3.65     2\n",
       "1       2           0            1  3.44  3.25  2.28  2.28     0\n",
       "2       2           2            2  3.21  2.67  3.33  3.42     2\n",
       "3       2           2            2  3.44  2.95  3.33  3.43     2\n",
       "4       2           2            2  3.72  3.25  3.42  3.51     2\n",
       "5       2           2            2  3.33  3.25  3.54  3.54     2\n",
       "6       2           1            2  3.56  3.25  3.60  3.60     2\n",
       "7       2           2            2  3.70  3.25  3.60  3.58     2"
      ]
     },
     "execution_count": 386,
     "metadata": {},
     "output_type": "execute_result"
    }
   ],
   "source": [
    "df.head(8)"
   ]
  },
  {
   "cell_type": "code",
   "execution_count": 387,
   "metadata": {},
   "outputs": [
    {
     "name": "stdout",
     "output_type": "stream",
     "text": [
      "c:\\ProgramData\\anaconda3\\python.exe\n"
     ]
    }
   ],
   "source": [
    "import sys\n",
    "print(sys.executable)\n"
   ]
  },
  {
   "cell_type": "code",
   "execution_count": 388,
   "metadata": {},
   "outputs": [
    {
     "data": {
      "text/plain": [
       "health           int32\n",
       "attendance       int32\n",
       "scholarship      int32\n",
       "gpa1           float64\n",
       "gpa2           float64\n",
       "gpa3           float64\n",
       "cgpa           float64\n",
       "Risk             int32\n",
       "dtype: object"
      ]
     },
     "execution_count": 388,
     "metadata": {},
     "output_type": "execute_result"
    }
   ],
   "source": [
    "df.dtypes"
   ]
  },
  {
   "cell_type": "code",
   "execution_count": null,
   "metadata": {},
   "outputs": [],
   "source": []
  }
 ],
 "metadata": {
  "kernelspec": {
   "display_name": "myenv",
   "language": "python",
   "name": "python3"
  },
  "language_info": {
   "codemirror_mode": {
    "name": "ipython",
    "version": 3
   },
   "file_extension": ".py",
   "mimetype": "text/x-python",
   "name": "python",
   "nbconvert_exporter": "python",
   "pygments_lexer": "ipython3",
   "version": "3.9.21"
  }
 },
 "nbformat": 4,
 "nbformat_minor": 2
}
